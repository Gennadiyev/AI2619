{
 "cells": [
  {
   "cell_type": "markdown",
   "metadata": {},
   "source": [
    "# AI2619 Programming Homework 3\n",
    "\n",
    "This homework is mainly about device-side mechanisms and inner workings of DFT."
   ]
  },
  {
   "cell_type": "code",
   "execution_count": 1,
   "metadata": {},
   "outputs": [],
   "source": [
    "import matplotlib.pyplot as plt\n",
    "import numpy as np\n",
    "# import cupy as cp\n",
    "import math\n",
    "import time\n",
    "import concurrent.futures\n",
    "%matplotlib inline\n",
    "%config InlineBackend.figure_format = 'retina'"
   ]
  },
  {
   "cell_type": "markdown",
   "metadata": {},
   "source": [
    "## Generating random signal arrays\n",
    "\n",
    "Now we generate signal arrays with different lengths."
   ]
  },
  {
   "cell_type": "code",
   "execution_count": 2,
   "metadata": {},
   "outputs": [],
   "source": [
    "# Generate random array with 2^24 in length - maximum hardware\n",
    "signal_random_4 = np.random.rand(2**4)\n",
    "signal_random_8 = np.random.rand(2**8)\n",
    "signal_random_12 = np.random.rand(2**12)\n",
    "signal_random_14 = np.random.rand(2**14)\n",
    "# signal_random_20 = np.random.rand(2**20)\n",
    "# signal_random_24 = np.random.rand(2**24)\n",
    "signals = [signal_random_4, signal_random_8, signal_random_12, signal_random_14]\n",
    "# signals = [signal_random_4, signal_random_8, signal_random_12, signal_random_16, signal_random_20, signal_random_24]\n"
   ]
  },
  {
   "cell_type": "markdown",
   "metadata": {},
   "source": [
    "## Task 1: DFT with `for` loop\n",
    "\n",
    "I've already implemented the DFT with `for` loop in [Programming Assignment #2](https://github.com/Gennadiyev/AI2619-HW/blob/main/programming-2/main.ipynb)."
   ]
  },
  {
   "cell_type": "code",
   "execution_count": 3,
   "metadata": {},
   "outputs": [],
   "source": [
    "# Discrete Fourier Transform for samples\n",
    "def dft_1(sample):\n",
    "    # This implementation is numpy-free\n",
    "    N = len(sample)\n",
    "    dft_output = []\n",
    "    # Perform DFT\n",
    "    for k in range(N):\n",
    "        sum = 0\n",
    "        for n in range(N):\n",
    "            sum += sample[n] * math.cos(2 * math.pi * n * k / N)\n",
    "        dft_output.append(sum)\n",
    "    # Shift on frequency domain\n",
    "    dft_output = dft_output[int(N/2):] + dft_output[:int(N/2)]\n",
    "    return dft_output\n",
    "\n",
    "\n",
    "def dft_1_opt(sample):\n",
    "    N = len(sample)\n",
    "    # We need to use multi-processing to accelerate the process\n",
    "    import multiprocessing as mp\n",
    "    # Create a pool of processes\n",
    "    print(\"Number of cores: \", mp.cpu_count())\n",
    "    dft_output = [None for i in range(N)]\n",
    "    # Define DFT task\n",
    "    def dft_k(sample, k, N):\n",
    "        return sum(sample[n] * math.cos(2 * math.pi * n * k / N) for n in range(N))\n",
    "    # Perform DFT\n",
    "    print(\"Performing DFT...\")\n",
    "    with concurrent.futures.ProcessPoolExecutor(max_workers=4) as executor:\n",
    "        ret = {executor.submit(dft_k, )}\n",
    "    print(\"DFT done\")\n",
    "    # Shift on frequency domain\n",
    "    dft_output = dft_output[int(N/2):] + dft_output[:int(N/2)]\n",
    "    return dft_output"
   ]
  },
  {
   "cell_type": "code",
   "execution_count": 1,
   "metadata": {},
   "outputs": [
    {
     "ename": "ModuleNotFoundError",
     "evalue": "No module named 'pathos'",
     "output_type": "error",
     "traceback": [
      "\u001b[1;31m---------------------------------------------------------------------------\u001b[0m",
      "\u001b[1;31mModuleNotFoundError\u001b[0m                       Traceback (most recent call last)",
      "\u001b[1;32mc:\\Users\\da-kun\\Projects\\AI2619\\programming-3\\main.ipynb Cell 7'\u001b[0m in \u001b[0;36m<module>\u001b[1;34m\u001b[0m\n\u001b[0;32m      <a href='vscode-notebook-cell:/c%3A/Users/da-kun/Projects/AI2619/programming-3/main.ipynb#ch0000007?line=0'>1</a>\u001b[0m \u001b[39m# Perform DFT on random signal and plot the result\u001b[39;00m\n\u001b[1;32m----> <a href='vscode-notebook-cell:/c%3A/Users/da-kun/Projects/AI2619/programming-3/main.ipynb#ch0000007?line=1'>2</a>\u001b[0m \u001b[39mfrom\u001b[39;00m \u001b[39mpathos\u001b[39;00m\u001b[39m.\u001b[39;00m\u001b[39mmultiprocessing\u001b[39;00m \u001b[39mimport\u001b[39;00m ProcessingPool \u001b[39mas\u001b[39;00m Pool\n\u001b[0;32m      <a href='vscode-notebook-cell:/c%3A/Users/da-kun/Projects/AI2619/programming-3/main.ipynb#ch0000007?line=2'>3</a>\u001b[0m \u001b[39mdef\u001b[39;00m \u001b[39mdft_1_test\u001b[39m():\n\u001b[0;32m      <a href='vscode-notebook-cell:/c%3A/Users/da-kun/Projects/AI2619/programming-3/main.ipynb#ch0000007?line=3'>4</a>\u001b[0m     \u001b[39mprint\u001b[39m(\u001b[39m\"\u001b[39m\u001b[39mDFT_1 Implementation (for loop)\u001b[39m\u001b[39m\"\u001b[39m)\n",
      "\u001b[1;31mModuleNotFoundError\u001b[0m: No module named 'pathos'"
     ]
    }
   ],
   "source": [
    "# Perform DFT on random signal and plot the result\n",
    "def dft_1_test():\n",
    "    print(\"DFT_1 Implementation (for loop)\")\n",
    "    dft_1_output = []\n",
    "    time_elapsed = []\n",
    "    for signal in signals:\n",
    "        start = time.time()\n",
    "        print(\">>> Signal length:\", len(signal))\n",
    "        print(\">   Starting DFT at \", time.strftime(\"%H:%M:%S\", time.localtime()))\n",
    "        dft_1_output.append(dft_1(signal))\n",
    "        print(\">   Finished DFT at \", time.strftime(\"%H:%M:%S\", time.localtime()))\n",
    "        end = time.time()\n",
    "        time_elapsed.append(end - start)\n",
    "        print(\">   Time elapsed:\", time_elapsed[-1])\n",
    "    return dft_1_output, time_elapsed\n",
    "\n",
    "dft_1_output, dft_1_time_elapsed = dft_1_test()"
   ]
  },
  {
   "cell_type": "code",
   "execution_count": null,
   "metadata": {},
   "outputs": [
    {
     "name": "stdout",
     "output_type": "stream",
     "text": [
      "DFT_1 Implementation (parallel)\n",
      ">>> Signal length: 16\n",
      ">   Starting DFT at  13:14:34\n",
      "Number of cores:  20\n",
      "Performing DFT...\n"
     ]
    }
   ],
   "source": [
    "def dft_1_opt_test():\n",
    "    print(\"DFT_1 Implementation (parallel)\")\n",
    "    dft_1_opt_output = []\n",
    "    time_elapsed = []\n",
    "    for signal in signals:\n",
    "        start = time.time()\n",
    "        print(\">>> Signal length:\", len(signal))\n",
    "        print(\">   Starting DFT at \", time.strftime(\"%H:%M:%S\", time.localtime()))\n",
    "        dft_1_opt_output.append(dft_1_opt(signal))\n",
    "        print(\">   Finished DFT at \", time.strftime(\"%H:%M:%S\", time.localtime()))\n",
    "        end = time.time()\n",
    "        time_elapsed.append(end - start)\n",
    "        print(\">   Time elapsed:\", time_elapsed[-1])\n",
    "    return dft_1_opt_output, time_elapsed\n",
    "\n",
    "# dft_1_output, dft_1_time_elapsed = dft_1_test()\n",
    "dft_1_output, dft_1_time_elapsed = dft_1_opt_test()"
   ]
  }
 ],
 "metadata": {
  "interpreter": {
   "hash": "ac59ebe37160ed0dfa835113d9b8498d9f09ceb179beaac4002f036b9467c963"
  },
  "kernelspec": {
   "display_name": "Python 3 (ipykernel)",
   "language": "python",
   "name": "python3"
  },
  "language_info": {
   "codemirror_mode": {
    "name": "ipython",
    "version": 3
   },
   "file_extension": ".py",
   "mimetype": "text/x-python",
   "name": "python",
   "nbconvert_exporter": "python",
   "pygments_lexer": "ipython3",
   "version": "3.9.7"
  }
 },
 "nbformat": 4,
 "nbformat_minor": 4
}
