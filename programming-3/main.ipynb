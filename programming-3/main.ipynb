{
 "cells": [
  {
   "cell_type": "markdown",
   "metadata": {},
   "source": [
    "# AI2619 Programming Homework 3\n",
    "\n",
    "This homework is mainly about device-side mechanisms and inner workings of DFT."
   ]
  },
  {
   "cell_type": "code",
   "execution_count": 35,
   "metadata": {},
   "outputs": [],
   "source": [
    "import matplotlib.pyplot as plt\n",
    "import numpy as np\n",
    "import math\n",
    "import time\n",
    "import concurrent.futures\n",
    "%matplotlib inline\n",
    "%config InlineBackend.figure_format = 'retina'"
   ]
  },
  {
   "cell_type": "markdown",
   "metadata": {},
   "source": [
    "## Generating random signal arrays\n",
    "\n",
    "Now we generate signal arrays with different lengths."
   ]
  },
  {
   "cell_type": "code",
   "execution_count": 13,
   "metadata": {},
   "outputs": [],
   "source": [
    "# Generate random array with 2^12 in length - maximum hardware\n",
    "signal_random_2 = np.random.rand(2**2)\n",
    "signal_random_4 = np.random.rand(2**4)\n",
    "signal_random_6 = np.random.rand(2**6)\n",
    "signal_random_8 = np.random.rand(2**8)\n",
    "signal_random_10 = np.random.rand(2**10)\n",
    "signal_random_12 = np.random.rand(2**12)\n",
    "signal_random_14 = np.random.rand(2**14)\n",
    "signal_random_16 = np.random.rand(2**16)\n",
    "signal_random_18 = np.random.rand(2**18)\n",
    "signal_random_20 = np.random.rand(2**20)\n",
    "signals_short = [signal_random_2, signal_random_4, signal_random_6, signal_random_8, signal_random_10]\n",
    "signals_long = [signal_random_2, signal_random_4, signal_random_6, signal_random_8, signal_random_10, signal_random_12, signal_random_14, signal_random_16, signal_random_18]"
   ]
  },
  {
   "cell_type": "markdown",
   "metadata": {},
   "source": [
    "Before diving in, I'd like to create a function that generates the DFT output by `numpy`."
   ]
  },
  {
   "cell_type": "code",
   "execution_count": 11,
   "metadata": {},
   "outputs": [],
   "source": [
    "def dft_0(sample):\n",
    "    '''\n",
    "    Discrete Fourier Transform using NumPy\n",
    "\n",
    "    Parameters:\n",
    "        sample: 1D array of real numbers\n",
    "\n",
    "    Returns:\n",
    "        The shifted DFT output\n",
    "    '''\n",
    "    N = len(sample)\n",
    "    dft_output = np.fft.fft(sample)\n",
    "    dft_output = dft_output[int(N/2):] + dft_output[:int(N/2)]\n",
    "    return dft_output"
   ]
  },
  {
   "cell_type": "markdown",
   "metadata": {},
   "source": [
    "## Task 1: DFT with `for` loop\n",
    "\n",
    "I've already implemented the DFT with `for` loop in [Programming Assignment #2](https://github.com/Gennadiyev/AI2619-HW/blob/main/programming-2/main.ipynb)."
   ]
  },
  {
   "cell_type": "code",
   "execution_count": 20,
   "metadata": {},
   "outputs": [],
   "source": [
    "def dft_1(sample):\n",
    "    '''\n",
    "    Discrete Fourier Transform using `for` loop.\n",
    "\n",
    "    Parameters:\n",
    "        sample: 1D array of real numbers\n",
    "\n",
    "    Returns:\n",
    "        The shifted DFT output\n",
    "    '''\n",
    "    N = len(sample)\n",
    "    dft_output = []\n",
    "    # Perform DFT\n",
    "    for k in range(N):\n",
    "        sum = 0\n",
    "        for n in range(N):\n",
    "            sum += sample[n] * math.cos(2 * math.pi * n * k / N)\n",
    "        dft_output.append(sum)\n",
    "    # Shift on frequency domain\n",
    "    dft_output = np.array(dft_output[int(N/2):] + dft_output[:int(N/2)])\n",
    "    return dft_output\n",
    "\n",
    "# This function is unable to run in Jupyter Notebook because interactive sessions do not support multiprocessing.\n",
    "# Please refer to task_1.py and use `python task_1.py` to run the DFT with multi-processing.\n",
    "def dft_1_opt(sample):\n",
    "    '''\n",
    "    Discrete Fourier Transform using `for` loop, optimized with multi-processing.\n",
    "\n",
    "    Parameters:\n",
    "        sample: 1D array of real numbers\n",
    "\n",
    "    Returns:\n",
    "        The shifted DFT output\n",
    "    '''\n",
    "    N = len(sample)\n",
    "    # We need to use multi-processing to accelerate the process\n",
    "    import multiprocessing as mp\n",
    "    # Create a pool of processes\n",
    "    print(\"Number of cores: \", mp.cpu_count())\n",
    "    dft_output = [None for i in range(N)]\n",
    "    # Define DFT task\n",
    "    def dft_k(sample, k, N):\n",
    "        return sum(sample[n] * math.cos(2 * math.pi * n * k / N) for n in range(N))\n",
    "    # Perform DFT\n",
    "    print(\"Performing DFT...\")\n",
    "    with concurrent.futures.ProcessPoolExecutor(max_workers=4) as executor:\n",
    "        ret = {executor.submit(dft_k, sample, k, N): k for k in range(N)}\n",
    "        for future in concurrent.futures.as_completed(ret):\n",
    "            k = ret[future]\n",
    "            dft_output[k] = future.result()\n",
    "            print(\"k = \", k)\n",
    "            print(\"dft_output[k] = \", dft_output[k])\n",
    "    print(\"DFT done\")\n",
    "    # Shift on frequency domain\n",
    "    dft_output = np.array(dft_output[int(N/2):] + dft_output[:int(N/2)])\n",
    "    return dft_output"
   ]
  },
  {
   "cell_type": "markdown",
   "metadata": {},
   "source": [
    "Because several limitations exist in Jupyter Notebook (interactive sessions do not support *m*ulti-threading*), this part of the code is tested in `task_1.py`. Here are the results:\n",
    "\n",
    "```\n",
    "DFT_1 Implementation (for loop)\n",
    ">>> Signal length: 4\n",
    ">   Starting DFT at  16:18:12\n",
    ">   Finished DFT at  16:18:12\n",
    ">   Time elapsed: 0.0009984970092773438 seconds     \n",
    ">   Started 1000-round test...\n",
    ">   Finished 1000-round test, using 0.006993532180786133 seconds\n",
    ">>> Signal length: 16\n",
    ">   Starting DFT at  16:18:12\n",
    ">   Finished DFT at  16:18:12\n",
    ">   Time elapsed: 0.0 seconds\n",
    ">   Started 1000-round test...\n",
    ">   Finished 1000-round test, using 0.08599448204040527 seconds\n",
    ">>> Signal length: 64\n",
    ">   Starting DFT at  10:25:12\n",
    ">   Finished DFT at  10:25:12\n",
    ">   Time elapsed: 0.0019943714141845703 seconds\n",
    ">   Started 1000-round test...\n",
    ">   Finished 1000-round test, using 1.158879041671753 seconds\n",
    ">>> Signal length: 256\n",
    ">   Starting DFT at  10:25:13\n",
    ">   Finished DFT at  10:25:13\n",
    ">   Time elapsed: 0.01999521255493164 seconds\n",
    ">   Started 1000-round test...\n",
    ">   Finished 1000-round test, using 17.742910385131836 seconds\n",
    ">>> Signal length: 1024\n",
    ">   Starting DFT at  10:25:31\n",
    ">   Finished DFT at  10:25:31\n",
    ">   Time elapsed: 0.28799986839294434 seconds\n",
    ">   Started 100-round test...\n",
    ">   Finished 100-round test, using 29.181013345718384 seconds\n",
    ">>> Signal length: 4096\n",
    ">   Starting DFT at  10:26:00\n",
    ">   Finished DFT at  10:26:05\n",
    ">   Time elapsed: 4.641534090042114 seconds\n",
    ">>> Signal length: 16384\n",
    ">   Starting DFT at  10:28:17\n",
    ">   Finished DFT at  10:29:29\n",
    ">   Time elapsed: 71.96527910232544 seconds\n",
    ">>> Signal length: 65536\n",
    ">   Starting DFT at  16:20:25\n",
    ">   Finished DFT at  16:40:44\n",
    ">   Time elapsed: 1219.0646941661835 seconds\n",
    ">>> Signal length: 262144\n",
    ">   Starting DFT at  16:40:44\n",
    ">   Finished DFT at  04:26:27\n",
    ">   Time elapsed: 42343.20760321617 seconds\n",
    "```\n",
    "\n",
    "```\n",
    "DFT_1 Implementation (for loop parellel)\n",
    ">>> Signal length: 4\n",
    ">   Starting DFT at  04:26:27\n",
    ">   Finished DFT at  04:26:29\n",
    ">   Time elapsed: 1.4602656364440918 seconds\n",
    ">>> Signal length: 16\n",
    ">   Starting DFT at  04:26:29\n",
    ">   Finished DFT at  04:26:29\n",
    ">   Time elapsed: 0.6489996910095215 seconds\n",
    ">   Started 100-round test...\n",
    ">   Finished 100-round test, using 53.03204298019409 seconds\n",
    ">>> Signal length: 64\n",
    ">   Starting DFT at  04:27:22\n",
    ">   Finished DFT at  04:27:23\n",
    ">   Time elapsed: 0.47299885749816895 seconds\n",
    ">   Started 100-round test...\n",
    ">   Finished 100-round test, using 46.54070997238159 seconds\n",
    ">>> Signal length: 256\n",
    ">   Starting DFT at  04:28:09\n",
    ">   Finished DFT at  04:28:10\n",
    ">   Time elapsed: 0.3280000686645508 seconds\n",
    ">   Started 100-round test...\n",
    ">   Finished 100-round test, using 46.44240760803223 seconds\n",
    ">>> Signal length: 1024\n",
    ">   Starting DFT at  04:28:56\n",
    ">   Finished DFT at  04:28:57\n",
    ">   Time elapsed: 0.5873832702636719 seconds\n",
    ">   Started 100-round test...\n",
    ">   Finished 100-round test, using 58.53805708885193 seconds\n",
    ">>> Signal length: 4096\n",
    ">   Starting DFT at  04:29:55\n",
    ">   Finished DFT at  04:29:57\n",
    ">   Time elapsed: 1.351588249206543 seconds\n",
    ">>> Signal length: 16384\n",
    ">   Starting DFT at  04:29:57\n",
    ">   Finished DFT at  04:30:13\n",
    ">   Time elapsed: 16.528849363327026 seconds\n",
    ">>> Signal length: 65536\n",
    ">   Starting DFT at  04:30:13\n",
    ">   Finished DFT at  04:36:41\n",
    ">   Time elapsed: 387.9387946128845 seconds\n",
    ">>> Signal length: 262144\n",
    ">   Starting DFT at  04:36:41\n",
    ">   Finished DFT at  06:22:53\n",
    ">   Time elapsed: 6371.492014169693 seconds\n",
    "```"
   ]
  },
  {
   "cell_type": "markdown",
   "metadata": {},
   "source": [
    "I will show the comparison of all implementations later."
   ]
  },
  {
   "cell_type": "markdown",
   "metadata": {},
   "source": [
    "## Task 2\n",
    "\n",
    "This task is mainly about performing DFT using matrix manipulation. Here we implement the process with `numpy`."
   ]
  },
  {
   "cell_type": "markdown",
   "metadata": {},
   "source": [
    "> Here is some math to understand the process:\n",
    "> \n",
    "> If the input discrete signal $x$ has length $N=|x|$, we are performing an **$N$-point DFT**:\n",
    "> $$x[n] \\xrightarrow{\\mathscr{F}} X[\\omega]$$\n",
    "> \n",
    "> The computation is equivalent to the following matrix multiplication:\n",
    "> $$\\displaystyle X=Wx$$\n",
    "> where:\n",
    "> $$W = \\frac{1}{\\sqrt{N}} \\begin{bmatrix}\n",
    "1&1&1&1&\\cdots &1 \\\\\n",
    "1&\\omega&\\omega^2&\\omega^3&\\cdots&\\omega^{N-1} \\\\\n",
    "1&\\omega^2&\\omega^4&\\omega^6&\\cdots&\\omega^{2(N-1)}\\\\ 1&\\omega^3&\\omega^6&\\omega^9&\\cdots&\\omega^{3(N-1)}\\\\\n",
    "\\vdots&\\vdots&\\vdots&\\vdots&\\ddots&\\vdots\\\\\n",
    "1&\\omega^{N-1}&\\omega^{2(N-1)}&\\omega^{3(N-1)}&\\cdots&\\omega^{(N-1)(N-1)}\\\\\n",
    "\\end{bmatrix}$$\n",
    "> where $\\displaystyle \\omega =e^{-{\\large\\frac {\\mathrm{j}2\\pi}{N}}}$"
   ]
  },
  {
   "cell_type": "markdown",
   "metadata": {},
   "source": [
    "And here is the implementation of the above process."
   ]
  },
  {
   "cell_type": "code",
   "execution_count": 10,
   "metadata": {},
   "outputs": [],
   "source": [
    "def dft_2(sample):\n",
    "    '''\n",
    "    Perform DFT with matrix manipulations.\n",
    "\n",
    "    Parameters:\n",
    "        sample: 1D array of real numbers\n",
    "\n",
    "    Returns:\n",
    "        The shifted DFT output\n",
    "    '''\n",
    "    N = len(sample)\n",
    "    # Perform DFT with matrix manipulations\n",
    "    x = np.asarray(sample, dtype=float)\n",
    "    N = x.shape[0]\n",
    "    n = np.arange(N)\n",
    "    k = n.reshape((N, 1))\n",
    "    M = np.exp(-2j * np.pi * k * n / N) # The matrix used to compute DFT\n",
    "    return np.fft.fftshift(np.dot(M, x))"
   ]
  },
  {
   "cell_type": "code",
   "execution_count": 34,
   "metadata": {},
   "outputs": [
    {
     "name": "stdout",
     "output_type": "stream",
     "text": [
      "DFT_2 Implementation (matrix multiplication)\n",
      ">>> Signal length: 4\n",
      ">   Starting DFT at  14:10:47\n",
      ">   Finished DFT at  14:10:47\n",
      ">   Time elapsed: 0.0 seconds\n",
      ">   Started 1000-round test...\n",
      ">   Finished 1000-round test, using 0.019989728927612305 seconds\n",
      ">>> Signal length: 16\n",
      ">   Starting DFT at  14:10:47\n",
      ">   Finished DFT at  14:10:47\n",
      ">   Time elapsed: 0.0 seconds\n",
      ">   Started 1000-round test...\n",
      ">   Finished 1000-round test, using 0.029007911682128906 seconds\n",
      ">>> Signal length: 64\n",
      ">   Starting DFT at  14:10:47\n",
      ">   Finished DFT at  14:10:47\n",
      ">   Time elapsed: 0.0019996166229248047 seconds\n",
      ">   Started 1000-round test...\n",
      ">   Finished 1000-round test, using 0.44599270820617676 seconds\n",
      ">>> Signal length: 256\n",
      ">   Starting DFT at  14:10:47\n",
      ">   Finished DFT at  14:10:47\n",
      ">   Time elapsed: 0.004010200500488281 seconds\n",
      ">   Started 1000-round test...\n",
      ">   Finished 1000-round test, using 4.722993612289429 seconds\n",
      ">>> Signal length: 1024\n",
      ">   Starting DFT at  14:10:52\n",
      ">   Finished DFT at  14:10:52\n",
      ">   Time elapsed: 0.07200241088867188 seconds\n",
      ">   Started 1000-round test...\n",
      ">   Finished 1000-round test, using 58.403924226760864 seconds\n"
     ]
    }
   ],
   "source": [
    "# Test dft_2\n",
    "def dft_2_test():\n",
    "    print(\"DFT_2 Implementation (matrix multiplication)\")\n",
    "    dft_2_output = []\n",
    "    time_elapsed = []\n",
    "    for signal in signals_short:\n",
    "        start = time.time()\n",
    "        print(\">>> Signal length:\", len(signal))\n",
    "        print(\">   Starting DFT at \", time.strftime(\"%H:%M:%S\", time.localtime()))\n",
    "        dft_2_output.append(dft_2(signal))\n",
    "        print(\">   Finished DFT at \", time.strftime(\"%H:%M:%S\", time.localtime()))\n",
    "        end = time.time()\n",
    "        # If time is shorter then 1 second, perform 100 times to see time used\n",
    "        print(\">   Time elapsed: \" + str(end - start) + \" seconds\")\n",
    "        if end - start < 0.1:\n",
    "            print(\">   Started 1000-round test...\")\n",
    "            start_1000 = time.time()\n",
    "            for i in range(1000):\n",
    "                dft_2(signal)\n",
    "            end_1000 = time.time()\n",
    "            print(\">   Finished 1000-round test, using \" + str(end_1000 - start_1000) + \" seconds\")\n",
    "            time_elapsed.append((end_1000 - start_1000)/1000)\n",
    "        elif end - start < 1:\n",
    "            print(\">   Started 100-round test...\")\n",
    "            start_100 = time.time()\n",
    "            for i in range(100):\n",
    "                dft_2(signal)\n",
    "            end_100 = time.time()\n",
    "            print(\">   Finished 100-round test, using \" + str(end_100 - start_100) + \" seconds\")\n",
    "            time_elapsed.append((end_100 - start_100)/100)\n",
    "        else:\n",
    "            time_elapsed.append(end - start)\n",
    "    return dft_2_output, time_elapsed\n",
    "\n",
    "dft_2_output, time_elapsed = dft_2_test()"
   ]
  },
  {
   "cell_type": "markdown",
   "metadata": {},
   "source": [
    "I cannot perform this test on a larger scale because the memory used to store the DFT matrix can easily exceed my maximum available memory. "
   ]
  },
  {
   "cell_type": "markdown",
   "metadata": {},
   "source": [
    "## Task 3\n",
    "\n",
    "Originally we need to use the `fft` function in MATLAB to perform the DFT. In this case, we will use `np.fft` directly. See implementation in the first part of the notebook, where I used it as a reference answer to the other parts of the assignment."
   ]
  },
  {
   "cell_type": "code",
   "execution_count": 14,
   "metadata": {},
   "outputs": [
    {
     "name": "stdout",
     "output_type": "stream",
     "text": [
      "DFT_3 Implementation (matrix multiplication)\n",
      ">>> Signal length: 4\n",
      ">   Starting DFT at  15:48:57\n",
      ">   Finished DFT at  15:48:57\n",
      ">   Time elapsed: 0.0 seconds\n",
      ">   Started 1000-round test...\n",
      ">   Finished 1000-round test, using 0.003996610641479492 seconds\n",
      ">>> Signal length: 16\n",
      ">   Starting DFT at  15:48:57\n",
      ">   Finished DFT at  15:48:57\n",
      ">   Time elapsed: 0.0 seconds\n",
      ">   Started 1000-round test...\n",
      ">   Finished 1000-round test, using 0.0050029754638671875 seconds\n",
      ">>> Signal length: 64\n",
      ">   Starting DFT at  15:48:57\n",
      ">   Finished DFT at  15:48:57\n",
      ">   Time elapsed: 0.0 seconds\n",
      ">   Started 1000-round test...\n",
      ">   Finished 1000-round test, using 0.004996538162231445 seconds\n",
      ">>> Signal length: 256\n",
      ">   Starting DFT at  15:48:57\n",
      ">   Finished DFT at  15:48:57\n",
      ">   Time elapsed: 0.0 seconds\n",
      ">   Started 1000-round test...\n",
      ">   Finished 1000-round test, using 0.005002021789550781 seconds\n",
      ">>> Signal length: 1024\n",
      ">   Starting DFT at  15:48:57\n",
      ">   Finished DFT at  15:48:57\n",
      ">   Time elapsed: 0.0009992122650146484 seconds\n",
      ">   Started 1000-round test...\n",
      ">   Finished 1000-round test, using 0.012001276016235352 seconds\n",
      ">>> Signal length: 4096\n",
      ">   Starting DFT at  15:48:57\n",
      ">   Finished DFT at  15:48:57\n",
      ">   Time elapsed: 0.00099945068359375 seconds\n",
      ">   Started 1000-round test...\n",
      ">   Finished 1000-round test, using 0.03699445724487305 seconds\n",
      ">>> Signal length: 16384\n",
      ">   Starting DFT at  15:48:57\n",
      ">   Finished DFT at  15:48:57\n",
      ">   Time elapsed: 0.0010058879852294922 seconds\n",
      ">   Started 1000-round test...\n",
      ">   Finished 1000-round test, using 0.1560039520263672 seconds\n",
      ">>> Signal length: 65536\n",
      ">   Starting DFT at  15:48:57\n",
      ">   Finished DFT at  15:48:57\n",
      ">   Time elapsed: 0.00400233268737793 seconds\n",
      ">   Started 1000-round test...\n",
      ">   Finished 1000-round test, using 2.8277175426483154 seconds\n",
      ">>> Signal length: 262144\n",
      ">   Starting DFT at  15:49:00\n",
      ">   Finished DFT at  15:49:00\n",
      ">   Time elapsed: 0.02100372314453125 seconds\n",
      ">   Started 1000-round test...\n",
      ">   Finished 1000-round test, using 17.434884071350098 seconds\n"
     ]
    }
   ],
   "source": [
    "def dft_3_test():\n",
    "    print(\"DFT_3 Implementation (matrix multiplication)\")\n",
    "    dft_3_output = []\n",
    "    time_elapsed = []\n",
    "    for signal in signals_long:\n",
    "        start = time.time()\n",
    "        print(\">>> Signal length:\", len(signal))\n",
    "        print(\">   Starting DFT at \", time.strftime(\"%H:%M:%S\", time.localtime()))\n",
    "        dft_3_output.append(dft_0(signal))\n",
    "        print(\">   Finished DFT at \", time.strftime(\"%H:%M:%S\", time.localtime()))\n",
    "        end = time.time()\n",
    "        # If time is shorter then 1 second, perform 100 times to see time used\n",
    "        print(\">   Time elapsed: \" + str(end - start) + \" seconds\")\n",
    "        if end - start < 0.1:\n",
    "            print(\">   Started 1000-round test...\")\n",
    "            start_1000 = time.time()\n",
    "            for i in range(1000):\n",
    "                dft_0(signal)\n",
    "            end_1000 = time.time()\n",
    "            print(\">   Finished 1000-round test, using \" + str(end_1000 - start_1000) + \" seconds\")\n",
    "            time_elapsed.append((end_1000 - start_1000)/1000)\n",
    "        elif end - start < 1:\n",
    "            print(\">   Started 100-round test...\")\n",
    "            start_100 = time.time()\n",
    "            for i in range(100):\n",
    "                dft_0(signal)\n",
    "            end_100 = time.time()\n",
    "            print(\">   Finished 100-round test, using \" + str(end_100 - start_100) + \" seconds\")\n",
    "            time_elapsed.append((end_100 - start_100)/100)\n",
    "        else:\n",
    "            time_elapsed.append(end - start)\n",
    "    return dft_3_output, time_elapsed\n",
    "\n",
    "dft_3_output, time_elapsed = dft_3_test()"
   ]
  },
  {
   "cell_type": "markdown",
   "metadata": {},
   "source": [
    "## Task 4\n",
    "\n",
    "In this task we are asked to use `gpuArray` to perform the DFT on GPU. Here we use `CUFFT`, a more basic library for GPU computing. We use `CuPy` to perform related operations. The related tutorials and documentations are found [here](https://docs.cupy.dev/en/stable/user_guide/fft.html)."
   ]
  },
  {
   "cell_type": "code",
   "execution_count": 4,
   "metadata": {},
   "outputs": [],
   "source": [
    "import cupy as cp"
   ]
  },
  {
   "cell_type": "markdown",
   "metadata": {},
   "source": [
    "Now we use the built in function `cp.fft.fft` to perform the DFT:"
   ]
  },
  {
   "cell_type": "code",
   "execution_count": 5,
   "metadata": {},
   "outputs": [],
   "source": [
    "import cupyx.scipy.fft as cufft\n",
    "\n",
    "def dft_4(sample):\n",
    "    '''\n",
    "    Perform DFT with CuPy.\n",
    "\n",
    "    Parameters:\n",
    "        sample: 1D array of real numbers\n",
    "\n",
    "    Returns:\n",
    "        The shifted DFT output\n",
    "    '''\n",
    "    sample = cp.asarray(sample, dtype=float)\n",
    "    dft_output = cufft.fft(sample)\n",
    "    return cufft.fftshift(dft_output)"
   ]
  },
  {
   "cell_type": "markdown",
   "metadata": {},
   "source": [
    "We also make a test function for this:"
   ]
  },
  {
   "cell_type": "code",
   "execution_count": 15,
   "metadata": {},
   "outputs": [
    {
     "name": "stdout",
     "output_type": "stream",
     "text": [
      "DFT_4 Implementation (GPU Accelerated)\n",
      ">>> Signal length: 4\n",
      ">   Starting DFT at  15:49:36\n",
      ">   Finished DFT at  15:49:36\n",
      ">   Time elapsed: 0.0019431114196777344 seconds\n",
      ">   Started 1000-round test...\n",
      ">   Finished 1000-round test, using 0.12601804733276367 seconds\n",
      ">>> Signal length: 16\n",
      ">   Starting DFT at  15:49:36\n",
      ">   Finished DFT at  15:49:36\n",
      ">   Time elapsed: 0.001979827880859375 seconds\n",
      ">   Started 1000-round test...\n",
      ">   Finished 1000-round test, using 0.14300537109375 seconds\n",
      ">>> Signal length: 64\n",
      ">   Starting DFT at  15:49:37\n",
      ">   Finished DFT at  15:49:37\n",
      ">   Time elapsed: 0.0019989013671875 seconds\n",
      ">   Started 1000-round test...\n",
      ">   Finished 1000-round test, using 0.12601733207702637 seconds\n",
      ">>> Signal length: 256\n",
      ">   Starting DFT at  15:49:37\n",
      ">   Finished DFT at  15:49:37\n",
      ">   Time elapsed: 0.0019779205322265625 seconds\n",
      ">   Started 1000-round test...\n",
      ">   Finished 1000-round test, using 0.1441030502319336 seconds\n",
      ">>> Signal length: 1024\n",
      ">   Starting DFT at  15:49:37\n",
      ">   Finished DFT at  15:49:37\n",
      ">   Time elapsed: 0.0020227432250976562 seconds\n",
      ">   Started 1000-round test...\n",
      ">   Finished 1000-round test, using 0.1829984188079834 seconds\n",
      ">>> Signal length: 4096\n",
      ">   Starting DFT at  15:49:37\n",
      ">   Finished DFT at  15:49:37\n",
      ">   Time elapsed: 0.000980377197265625 seconds\n",
      ">   Started 1000-round test...\n",
      ">   Finished 1000-round test, using 0.2989964485168457 seconds\n",
      ">>> Signal length: 16384\n",
      ">   Starting DFT at  15:49:37\n",
      ">   Finished DFT at  15:49:37\n",
      ">   Time elapsed: 0.0039865970611572266 seconds\n",
      ">   Started 1000-round test...\n",
      ">   Finished 1000-round test, using 0.24437260627746582 seconds\n",
      ">>> Signal length: 65536\n",
      ">   Starting DFT at  15:49:38\n",
      ">   Finished DFT at  15:49:38\n",
      ">   Time elapsed: 0.0028839111328125 seconds\n",
      ">   Started 1000-round test...\n",
      ">   Finished 1000-round test, using 0.3060019016265869 seconds\n",
      ">>> Signal length: 262144\n",
      ">   Starting DFT at  15:49:38\n",
      ">   Finished DFT at  15:49:38\n",
      ">   Time elapsed: 0.0039825439453125 seconds\n",
      ">   Started 1000-round test...\n",
      ">   Finished 1000-round test, using 0.668910026550293 seconds\n"
     ]
    }
   ],
   "source": [
    "# Test dft_4\n",
    "def dft_4_test():\n",
    "    print(\"DFT_4 Implementation (GPU Accelerated)\")\n",
    "    dft_4_output = []\n",
    "    time_elapsed = []\n",
    "    for signal in signals_long:\n",
    "        start = time.time()\n",
    "        print(\">>> Signal length:\", len(signal))\n",
    "        print(\">   Starting DFT at \", time.strftime(\"%H:%M:%S\", time.localtime()))\n",
    "        dft_4_output.append(dft_4(signal))\n",
    "        print(\">   Finished DFT at \", time.strftime(\"%H:%M:%S\", time.localtime()))\n",
    "        end = time.time()\n",
    "        # If time is shorter then 1 second, perform 100 times to see time used\n",
    "        print(\">   Time elapsed: \" + str(end - start) + \" seconds\")\n",
    "        if end - start < 0.1:\n",
    "            print(\">   Started 1000-round test...\")\n",
    "            start_1000 = time.time()\n",
    "            for i in range(1000):\n",
    "                dft_4(signal)\n",
    "            end_1000 = time.time()\n",
    "            print(\">   Finished 1000-round test, using \" + str(end_1000 - start_1000) + \" seconds\")\n",
    "            time_elapsed.append((end_1000 - start_1000)/1000)\n",
    "        elif end - start < 1:\n",
    "            print(\">   Started 100-round test...\")\n",
    "            start_100 = time.time()\n",
    "            for i in range(100):\n",
    "                dft_4(signal)\n",
    "            end_100 = time.time()\n",
    "            print(\">   Finished 100-round test, using \" + str(end_100 - start_100) + \" seconds\")\n",
    "            time_elapsed.append((end_100 - start_100)/100)\n",
    "        else:\n",
    "            time_elapsed.append(end - start)\n",
    "    return dft_4_output, time_elapsed\n",
    "\n",
    "dft_4_output, time_elapsed = dft_4_test()"
   ]
  },
  {
   "cell_type": "markdown",
   "metadata": {},
   "source": [
    "## Summary\n",
    "\n",
    "So far, we've implemented the DFT with `for` loop, matrix manipulations, `NumPy`, and `CuPy`. It's time to compare the efficiency of the four. All the data has been recorded in the `DataDFT.csv` file."
   ]
  },
  {
   "cell_type": "code",
   "execution_count": 31,
   "metadata": {},
   "outputs": [],
   "source": [
    "import matplotlib.pyplot as plt\n",
    "import pandas as pd\n",
    "import numpy as np\n",
    "data = pd.read_csv(\"DataDFT.csv\")"
   ]
  },
  {
   "cell_type": "code",
   "execution_count": 44,
   "metadata": {},
   "outputs": [
    {
     "data": {
      "text/plain": [
       "Text(0, 0.5, 'Time per calculation ($\\\\ln(t)$')"
      ]
     },
     "execution_count": 44,
     "metadata": {},
     "output_type": "execute_result"
    },
    {
     "data": {
      "image/png": "[encoded data removed]",
      "text/plain": [
       "<Figure size 720x720 with 1 Axes>"
      ]
     },
     "metadata": {
      "image/png": {
       "height": 602,
       "width": 611
      },
      "needs_background": "light"
     },
     "output_type": "display_data"
    }
   ],
   "source": [
    "# Visualize the results\n",
    "data_parsed = {}\n",
    "for row_id, row in data.iterrows():\n",
    "    if row[\"Algorithm\"] not in data_parsed:\n",
    "        data_parsed[row[\"Algorithm\"]] = {}\n",
    "    data_parsed[row[\"Algorithm\"]][row[\"Length\"]] = row[\"Time / Round\"]\n",
    "\n",
    "# Plot the results for each algorithm in one plot\n",
    "plt.rc('text', usetex=True)\n",
    "plt.rc('font', family='serif')\n",
    "plt.figure(figsize=(10, 10))\n",
    "for algorithm in data_parsed:\n",
    "    plt.plot(\n",
    "        [np.log2(int(k)) for k in data_parsed[algorithm].keys()],\n",
    "        [(lambda v: np.log(float(v)) if v != \"#VALUE!\" else None)(v) for v in data_parsed[algorithm].values()],\n",
    "        label=algorithm\n",
    "    )\n",
    "plt.title(\"DFT Performance\")\n",
    "plt.legend()\n",
    "plt.xlabel(r\"Signal Length ($\\log_2(l)$)\")\n",
    "plt.ylabel(r\"Time per calculation ($\\ln(t)$\")"
   ]
  },
  {
   "cell_type": "markdown",
   "metadata": {},
   "source": [
    "The above plot is interesting to analyze.\n",
    "\n",
    "`DFT_1` uses the `for` loop to calculate DFT, which has time complexity of $\\mathcal{O}(N^2)$. With multiprocessing enabled, the time used reduced significantly when the input size gets large, but it's still painful to use.\n",
    "\n",
    "`DFT_2` uses matrix manipulation, which also has time complexity of $\\mathcal{O}(N^2)$. Consequently, the operation is not fundamentally more optimal than `DFT_1`. Meanwhile, it is memory-intensive, which makes it impossible to work for upscaled inputs. (More RAM required.)\n",
    "\n",
    "`DFT_3` uses the built-in `NumPy` implementation. It is incredibly fast while being memory-efficient. This is more likely due to its `C`-like nature: in fact we are calling native `C++` functions. From the diagram we can estimate that the time complexity $\\approx \\mathcal{O}(N)$.\n",
    "\n",
    "`DFT_4` uses `CuPy`, or `CuFFT` to accelerate the DFT. From the data we acquire, it has great potential and I have yet to fully utilize it. For large-scale inputs, it can be expected to be faster than `DFT_3`, and easily top the other algorithms."
   ]
  },
  {
   "cell_type": "markdown",
   "metadata": {},
   "source": [
    "## Special Thanks\n",
    "\n",
    "During the process of completing the project, I received help from Prof. Yuye Ling. Thanks for his patience and support.\n",
    "\n",
    "## License\n",
    "\n",
    "The above code are under MIT License."
   ]
  }
 ],
 "metadata": {
  "interpreter": {
   "hash": "ac59ebe37160ed0dfa835113d9b8498d9f09ceb179beaac4002f036b9467c963"
  },
  "kernelspec": {
   "display_name": "Python 3 (ipykernel)",
   "language": "python",
   "name": "python3"
  },
  "language_info": {
   "codemirror_mode": {
    "name": "ipython",
    "version": 3
   },
   "file_extension": ".py",
   "mimetype": "text/x-python",
   "name": "python",
   "nbconvert_exporter": "python",
   "pygments_lexer": "ipython3",
   "version": "3.9.9"
  }
 },
 "nbformat": 4,
 "nbformat_minor": 4
}
